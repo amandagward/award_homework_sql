{
 "cells": [
  {
   "cell_type": "code",
   "execution_count": null,
   "metadata": {},
   "outputs": [],
   "source": [
    "# Use the information you have to create a table schema for each of the six CSV files.\n",
    "    # Remember to specify data types, primary keys, foreign keys, and other constraints.\n",
    "# Import each CSV file into the corresponding SQL table."
   ]
  },
  {
   "cell_type": "code",
   "execution_count": null,
   "metadata": {},
   "outputs": [],
   "source": [
    "# Create Employees Table\n",
    "CREATE TABLE \"Employees\" (\n",
    "    \"emp_no\" INT   NOT NULL,\n",
    "    \"birth_date\" VARCHAR(30)   NOT NULL,\n",
    "    \"first_name\" VARCHAR(30)   NOT NULL,\n",
    "    \"last_name\" VARCHAR(30)   NOT NULL,\n",
    "    \"gender\" VARCHAR(1)   NOT NULL,\n",
    "    \"hire_date\" VARCHAR(30)   NOT NULL,\n",
    "    CONSTRAINT \"pk_Employees\" PRIMARY KEY (\n",
    "        \"emp_no\"\n",
    "     )\n",
    ");"
   ]
  },
  {
   "cell_type": "code",
   "execution_count": null,
   "metadata": {},
   "outputs": [],
   "source": [
    "# Create Departments Table\n",
    "CREATE TABLE \"Departments\" (\n",
    "    \"dept_no\" VARCHAR(4)   NOT NULL,\n",
    "    \"dept_name\" VARCHAR(30)   NOT NULL,\n",
    "    CONSTRAINT \"pk_Departments\" PRIMARY KEY (\n",
    "        \"dept_no\"\n",
    "     )\n",
    ");"
   ]
  },
  {
   "cell_type": "code",
   "execution_count": null,
   "metadata": {},
   "outputs": [],
   "source": [
    "# Create Department Employees Table\n",
    "CREATE TABLE \"Dept_emp\" (\n",
    "    \"emp_no\" INT   NOT NULL,\n",
    "    \"dept_no\" VARCHAR(4)   NOT NULL,\n",
    "    \"from_date\" VARCHAR(30)   NOT NULL,\n",
    "    \"to_date\" VARCHAR(30)   NOT NULL\n",
    ");"
   ]
  },
  {
   "cell_type": "code",
   "execution_count": null,
   "metadata": {},
   "outputs": [],
   "source": [
    "# Create Department Managers Table\n",
    "CREATE TABLE \"Dept_manager\" (\n",
    "    \"dept_no\" VARCHAR(4)   NOT NULL,\n",
    "    \"emp_no\" INT   NOT NULL,\n",
    "    \"from_date\" VARCHAR(30)   NOT NULL,\n",
    "    \"to_date\" VARCHAR(30)   NOT NULL\n",
    ");"
   ]
  },
  {
   "cell_type": "code",
   "execution_count": null,
   "metadata": {},
   "outputs": [],
   "source": [
    "# Create Salaries Table\n",
    "CREATE TABLE \"Salaries\" (\n",
    "    \"emp_no\" INT   NOT NULL,\n",
    "    \"salary\" INT   NOT NULL,\n",
    "    \"from_date\" VARCHAR(30)   NOT NULL,\n",
    "    \"to_date\" VARCHAR(30)   NOT NULL\n",
    ");"
   ]
  },
  {
   "cell_type": "code",
   "execution_count": null,
   "metadata": {},
   "outputs": [],
   "source": [
    "# Create Titles Table\n",
    "CREATE TABLE \"Titles\" (\n",
    "    \"emp_no\" INT   NOT NULL,\n",
    "    \"title\" VARCHAR(30)   NOT NULL,\n",
    "    \"from_date\" VARCHAR(30)   NOT NULL,\n",
    "    \"to_date\" VARCHAR(30)   NOT NULL\n",
    ");"
   ]
  },
  {
   "cell_type": "code",
   "execution_count": null,
   "metadata": {},
   "outputs": [],
   "source": [
    "ALTER TABLE \"dept_emp\" ADD CONSTRAINT \"fk_dept_emp_emp_no\" FOREIGN KEY(\"emp_no\")\n",
    "REFERENCES \"employees\" (\"emp_no\");"
   ]
  },
  {
   "cell_type": "code",
   "execution_count": null,
   "metadata": {},
   "outputs": [],
   "source": [
    "ALTER TABLE \"dept_emp\" ADD CONSTRAINT \"fk_dept_emp_dept_no\" FOREIGN KEY(\"dept_no\")\n",
    "REFERENCES \"departments\" (\"dept_no\");"
   ]
  },
  {
   "cell_type": "code",
   "execution_count": null,
   "metadata": {},
   "outputs": [],
   "source": [
    "ALTER TABLE \"dept_manager\" ADD CONSTRAINT \"fk_dept_manager_dept_no\" FOREIGN KEY(\"dept_no\")\n",
    "REFERENCES \"departments\" (\"dept_no\");"
   ]
  },
  {
   "cell_type": "code",
   "execution_count": null,
   "metadata": {},
   "outputs": [],
   "source": [
    "ALTER TABLE \"dept_manager\" ADD CONSTRAINT \"fk_dept_manager_emp_no\" FOREIGN KEY(\"emp_no\")\n",
    "REFERENCES \"employees\" (\"emp_no\");"
   ]
  },
  {
   "cell_type": "code",
   "execution_count": null,
   "metadata": {},
   "outputs": [],
   "source": [
    "ALTER TABLE \"salaries\" ADD CONSTRAINT \"fk_salaries_emp_no\" FOREIGN KEY(\"emp_no\")\n",
    "REFERENCES \"employees\" (\"emp_no\");"
   ]
  },
  {
   "cell_type": "code",
   "execution_count": null,
   "metadata": {},
   "outputs": [],
   "source": [
    "ALTER TABLE \"titles\" ADD CONSTRAINT \"fk_titles_emp_no\" FOREIGN KEY(\"emp_no\")\n",
    "REFERENCES \"employees\" (\"emp_no\");"
   ]
  },
  {
   "cell_type": "code",
   "execution_count": null,
   "metadata": {},
   "outputs": [],
   "source": [
    "# 1. List the following details of each employee: employee number, last name, first name, gender, and salary.\n",
    "\n",
    "SELECT e.emp_no, e.last_name, e.first_name, e.gender, s.salary\n",
    "FROM salaries AS s\n",
    "INNER JOIN employees AS e ON\n",
    "e.emp_no = s.emp_no;"
   ]
  },
  {
   "cell_type": "code",
   "execution_count": null,
   "metadata": {},
   "outputs": [],
   "source": [
    "# 2. List employees who were hired in 1986.\n",
    "\n",
    "SELECT * FROM employees\n",
    "WHERE hire_date LIKE '1986%';"
   ]
  },
  {
   "cell_type": "code",
   "execution_count": null,
   "metadata": {},
   "outputs": [],
   "source": [
    "# 3. List the manager of each department with the following information: department number, department name,\n",
    "    # the manager's employee number, last name, first name, and start and end employment dates.\n",
    "\n",
    "SELECT d.dept_no, d.dept_name, m.emp_no, e.last_name, e.first_name, m.from_date, m.to_date\n",
    "FROM departments AS d\n",
    "INNER JOIN dept_manager AS m ON\n",
    "m.dept_no = d.dept_no\n",
    "JOIN employees AS e ON\n",
    "e.emp_no = m.emp_no;"
   ]
  },
  {
   "cell_type": "code",
   "execution_count": null,
   "metadata": {},
   "outputs": [],
   "source": [
    "# 4. List the department of each employee with the following information:\n",
    "    # employee number, last name, first name, and department name.\n",
    "\n",
    "SELECT e.emp_no, e.last_name, e.first_name, dp.dept_name\n",
    "FROM employees AS e\n",
    "INNER JOIN dept_emp AS d ON\n",
    "e.emp_no = d.emp_no\n",
    "INNER JOIN departments AS dp ON\n",
    "dp.dept_no = d.dept_no;"
   ]
  },
  {
   "cell_type": "code",
   "execution_count": null,
   "metadata": {},
   "outputs": [],
   "source": [
    "# 5. List all employees whose first name is \"Hercules\" and last names begin with \"B.\"\n",
    "\n",
    "SELECT * FROM employees\n",
    "WHERE first_name LIKE 'Hercules'\n",
    "AND last_name LIKE 'B%';"
   ]
  },
  {
   "cell_type": "code",
   "execution_count": null,
   "metadata": {},
   "outputs": [],
   "source": [
    "# 6. List all employees in the Sales department, including their employee number,\n",
    "    # last name, first name, and department name.\n",
    "\n",
    "SELECT e.emp_no, e.last_name, e.first_name, dp.dept_name\n",
    "FROM employees AS e\n",
    "INNER JOIN dept_emp AS d ON\n",
    "e.emp_no = d.emp_no\n",
    "INNER JOIN departments AS dp ON\n",
    "dp.dept_no = d.dept_no\n",
    "WHERE dp.dept_name LIKE 'Sales';"
   ]
  },
  {
   "cell_type": "code",
   "execution_count": null,
   "metadata": {},
   "outputs": [],
   "source": [
    "# 7. List all employees in the Sales and Development departments, including their employee number,\n",
    "    # last name, first name, and department name.\n",
    "\n",
    "SELECT e.emp_no, e.last_name, e.first_name, dp.dept_name\n",
    "FROM employees AS e\n",
    "INNER JOIN dept_emp AS d ON\n",
    "e.emp_no = d.emp_no\n",
    "INNER JOIN departments AS dp ON\n",
    "dp.dept_no = d.dept_no\n",
    "WHERE dp.dept_name LIKE 'Development'\n",
    "OR dp.dept_name LIKE 'Sales';"
   ]
  },
  {
   "cell_type": "code",
   "execution_count": null,
   "metadata": {},
   "outputs": [],
   "source": [
    "# 8. In descending order, list the frequency count of employee last names,\n",
    "    # i.e., how many employees share each last name\n",
    "\n",
    "SELECT last_name, COUNT(*) AS frequency\n",
    "FROM employees\n",
    "GROUP BY last_name\n",
    "ORDER BY frequency DESC;"
   ]
  }
 ],
 "metadata": {
  "kernelspec": {
   "display_name": "Python 3",
   "language": "python",
   "name": "python3"
  },
  "language_info": {
   "codemirror_mode": {
    "name": "ipython",
    "version": 3
   },
   "file_extension": ".py",
   "mimetype": "text/x-python",
   "name": "python",
   "nbconvert_exporter": "python",
   "pygments_lexer": "ipython3",
   "version": "3.7.3"
  }
 },
 "nbformat": 4,
 "nbformat_minor": 2
}
