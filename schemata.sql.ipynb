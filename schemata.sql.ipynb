{
 "cells": [
  {
   "cell_type": "code",
   "execution_count": null,
   "metadata": {},
   "outputs": [],
   "source": [
    "# Use the information you have to create a table schema for each of the six CSV files.\n",
    "    # Remember to specify data types, primary keys, foreign keys, and other constraints.\n",
    "# Import each CSV file into the corresponding SQL table."
   ]
  },
  {
   "cell_type": "code",
   "execution_count": null,
   "metadata": {},
   "outputs": [],
   "source": [
    "CREATE TABLE \"Employees\" (\n",
    "    \"emp_no\" INT   NOT NULL,\n",
    "    \"birth_date\" VARCHAR(30)   NOT NULL,\n",
    "    \"first_name\" VARCHAR(30)   NOT NULL,\n",
    "    \"last_name\" VARCHAR(30)   NOT NULL,\n",
    "    \"gender\" VARCHAR(1)   NOT NULL,\n",
    "    \"hire_date\" VARCHAR(30)   NOT NULL,\n",
    "    CONSTRAINT \"pk_Employees\" PRIMARY KEY (\n",
    "        \"emp_no\"\n",
    "     )\n",
    ");"
   ]
  },
  {
   "cell_type": "code",
   "execution_count": null,
   "metadata": {},
   "outputs": [],
   "source": [
    "CREATE TABLE \"Departments\" (\n",
    "    \"dept_no\" VARCHAR(4)   NOT NULL,\n",
    "    \"dept_name\" VARCHAR(30)   NOT NULL,\n",
    "    CONSTRAINT \"pk_Departments\" PRIMARY KEY (\n",
    "        \"dept_no\"\n",
    "     )\n",
    ");"
   ]
  },
  {
   "cell_type": "code",
   "execution_count": null,
   "metadata": {},
   "outputs": [],
   "source": [
    "CREATE TABLE \"Dept_emp\" (\n",
    "    \"emp_no\" INT   NOT NULL,\n",
    "    \"dept_no\" VARCHAR(4)   NOT NULL,\n",
    "    \"from_date\" VARCHAR(30)   NOT NULL,\n",
    "    \"to_date\" VARCHAR(30)   NOT NULL\n",
    ");"
   ]
  },
  {
   "cell_type": "code",
   "execution_count": null,
   "metadata": {},
   "outputs": [],
   "source": [
    "CREATE TABLE \"Dept_manager\" (\n",
    "    \"dept_no\" VARCHAR(4)   NOT NULL,\n",
    "    \"emp_no\" INT   NOT NULL,\n",
    "    \"from_date\" VARCHAR(30)   NOT NULL,\n",
    "    \"to_date\" VARCHAR(30)   NOT NULL\n",
    ");"
   ]
  },
  {
   "cell_type": "code",
   "execution_count": null,
   "metadata": {},
   "outputs": [],
   "source": [
    "CREATE TABLE \"Salaries\" (\n",
    "    \"emp_no\" INT   NOT NULL,\n",
    "    \"salary\" INT   NOT NULL,\n",
    "    \"from_date\" VARCHAR(30)   NOT NULL,\n",
    "    \"to_date\" VARCHAR(30)   NOT NULL\n",
    ");"
   ]
  },
  {
   "cell_type": "code",
   "execution_count": null,
   "metadata": {},
   "outputs": [],
   "source": [
    "CREATE TABLE \"Titles\" (\n",
    "    \"emp_no\" INT   NOT NULL,\n",
    "    \"title\" VARCHAR(30)   NOT NULL,\n",
    "    \"from_date\" VARCHAR(30)   NOT NULL,\n",
    "    \"to_date\" VARCHAR(30)   NOT NULL\n",
    ");"
   ]
  },
  {
   "cell_type": "code",
   "execution_count": null,
   "metadata": {},
   "outputs": [],
   "source": [
    "ALTER TABLE \"Dept_emp\" ADD CONSTRAINT \"fk_Dept_emp_emp_no\" FOREIGN KEY(\"emp_no\")\n",
    "REFERENCES \"Employees\" (\"emp_no\");\n",
    "\n",
    "ALTER TABLE \"Dept_emp\" ADD CONSTRAINT \"fk_Dept_emp_dept_no\" FOREIGN KEY(\"dept_no\")\n",
    "REFERENCES \"Departments\" (\"dept_no\");\n",
    "\n",
    "ALTER TABLE \"Dept_manager\" ADD CONSTRAINT \"fk_Dept_manager_dept_no\" FOREIGN KEY(\"dept_no\")\n",
    "REFERENCES \"Departments\" (\"dept_no\");\n",
    "\n",
    "ALTER TABLE \"Dept_manager\" ADD CONSTRAINT \"fk_Dept_manager_emp_no\" FOREIGN KEY(\"emp_no\")\n",
    "REFERENCES \"Employees\" (\"emp_no\");\n",
    "\n",
    "ALTER TABLE \"Salaries\" ADD CONSTRAINT \"fk_Salaries_emp_no\" FOREIGN KEY(\"emp_no\")\n",
    "REFERENCES \"Employees\" (\"emp_no\");\n",
    "\n",
    "ALTER TABLE \"Titles\" ADD CONSTRAINT \"fk_Titles_emp_no\" FOREIGN KEY(\"emp_no\")\n",
    "REFERENCES \"Employees\" (\"emp_no\");"
   ]
  }
 ],
 "metadata": {
  "kernelspec": {
   "display_name": "Python 3",
   "language": "python",
   "name": "python3"
  },
  "language_info": {
   "codemirror_mode": {
    "name": "ipython",
    "version": 3
   },
   "file_extension": ".py",
   "mimetype": "text/x-python",
   "name": "python",
   "nbconvert_exporter": "python",
   "pygments_lexer": "ipython3",
   "version": "3.7.3"
  }
 },
 "nbformat": 4,
 "nbformat_minor": 2
}
