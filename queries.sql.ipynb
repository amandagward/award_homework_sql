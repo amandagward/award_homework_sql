{
 "cells": [
  {
   "cell_type": "code",
   "execution_count": null,
   "metadata": {},
   "outputs": [],
   "source": [
    "# General Setup\n",
    "\n"
   ]
  },
  {
   "cell_type": "code",
   "execution_count": null,
   "metadata": {},
   "outputs": [],
   "source": [
    "# Import each CSV file into the corresponding SQL table.\n",
    "\n",
    "-- Create Employees Table\n",
    "DROP TABLE IF EXISTS employees;\n",
    "CREATE TABLE employees\n",
    "(\n",
    "\temp_no INT PRIMARY KEY NOT NULL,\n",
    "\tbirth_date VARCHAR(30) NOT NULL,\n",
    "\tfirst_name VARCHAR(30) NOT NULL,\n",
    "\tlast_name VARCHAR(30) NOT NULL,\n",
    "\tgender VARCHAR(1) NOT NULL,\n",
    "\thire_date VARCHAR(30) NOT NULL\n",
    ");\n",
    "\n",
    "-- Create Departments Table\n",
    "DROP TABLE IF EXISTS departments;\n",
    "CREATE TABLE departments\n",
    "(\n",
    "\tdept_no VARCHAR(4) PRIMARY KEY NOT NULL,\n",
    "\tdept_name VARCHAR(30) NOT NULL\n",
    ");\n",
    "\n",
    "-- Create Department Employees Table\n",
    "DROP TABLE IF EXISTS dept_emp;\n",
    "CREATE TABLE dept_emp\n",
    "(\n",
    "\temp_no INT NOT NULL,\n",
    "\tFOREIGN KEY (emp_no) REFERENCES employees(emp_no),\n",
    "\tdept_no VARCHAR(4) NOT NULL,\n",
    "\tFOREIGN KEY (dept_no) REFERENCES departments(dept_no),\n",
    "\tfrom_date VARCHAR(30) NOT NULL,\n",
    "\tto_date VARCHAR(30) NOT NULL\n",
    ");\n",
    "\n",
    "-- Create Department Managers Table\n",
    "DROP TABLE IF EXISTS dept_manager;\n",
    "CREATE TABLE dept_manager\n",
    "(\n",
    "\tdept_no VARCHAR(4) NOT NULL,\n",
    "\tFOREIGN KEY (dept_no) REFERENCES departments(dept_no),\n",
    "\temp_no INT NOT NULL,\n",
    "\tFOREIGN KEY (emp_no) REFERENCES employees(emp_no),\n",
    "\tfrom_date VARCHAR(30) NOT NULL,\n",
    "\tto_date VARCHAR(30) NOT NULL\n",
    ");\n",
    "\n",
    "-- Create Salaries Table\n",
    "DROP TABLE IF EXISTS salaries;\n",
    "CREATE TABLE salaries\n",
    "(\n",
    "\temp_no INT NOT NULL,\n",
    "\tFOREIGN KEY (emp_no) REFERENCES employees(emp_no),\n",
    "\tsalary INT NOT NULL,\n",
    "\tfrom_date VARCHAR(30) NOT NULL,\n",
    "\tto_date VARCHAR(30) NOT NULL\n",
    ");\n",
    "\n",
    "-- Create Titles Table\n",
    "DROP TABLE IF EXISTS titles;\n",
    "CREATE TABLE titles\n",
    "(\n",
    "\temp_no INT NOT NULL,\n",
    "\tFOREIGN KEY (emp_no) REFERENCES employees(emp_no),\n",
    "\ttitle VARCHAR(30) NOT NULL,\n",
    "\tfrom_date VARCHAR(30) NOT NULL,\n",
    "\tto_date VARCHAR(30) NOT NULL\n",
    ");"
   ]
  },
  {
   "cell_type": "code",
   "execution_count": null,
   "metadata": {},
   "outputs": [],
   "source": [
    "# List the following details of each employee: employee number, last name, first name, gender, and salary.\n",
    "\n"
   ]
  },
  {
   "cell_type": "code",
   "execution_count": null,
   "metadata": {},
   "outputs": [],
   "source": [
    "# List employees who were hired in 1986.\n",
    "\n"
   ]
  },
  {
   "cell_type": "code",
   "execution_count": null,
   "metadata": {},
   "outputs": [],
   "source": [
    "# List the manager of each department with the following information: department number, department name,\n",
    "    #the manager's employee number, last name, first name, and start and end employment dates.\n",
    "\n"
   ]
  },
  {
   "cell_type": "code",
   "execution_count": null,
   "metadata": {},
   "outputs": [],
   "source": [
    "# List the department of each employee with the following information:\n",
    "    # employee number, last name, first name, and department name.\n",
    "\n"
   ]
  },
  {
   "cell_type": "code",
   "execution_count": null,
   "metadata": {},
   "outputs": [],
   "source": [
    "# List all employees whose first name is \"Hercules\" and last names begin with \"B.\"\n",
    "\n"
   ]
  },
  {
   "cell_type": "code",
   "execution_count": null,
   "metadata": {},
   "outputs": [],
   "source": [
    "# List all employees in the Sales department, including their employee number,\n",
    "    # last name, first name, and department name.\n",
    "\n"
   ]
  },
  {
   "cell_type": "code",
   "execution_count": null,
   "metadata": {},
   "outputs": [],
   "source": [
    "# List all employees in the Sales and Development departments, including their employee number,\n",
    "    # last name, first name, and department name.\n",
    "\n"
   ]
  },
  {
   "cell_type": "code",
   "execution_count": null,
   "metadata": {},
   "outputs": [],
   "source": [
    "# In descending order, list the frequency count of employee last names,\n",
    "    # i.e., how many employees share each last name\n",
    "\n",
    "SELECT last_name, COUNT(*) AS frequency\n",
    "FROM employees\n",
    "GROUP BY last_name\n",
    "ORDER BY frequency DESC;"
   ]
  },
  {
   "cell_type": "code",
   "execution_count": null,
   "metadata": {},
   "outputs": [],
   "source": [
    "\n",
    "\n",
    "-- 1. List the following details of each employee: employee number, last name, first name, gender, and salary.\n",
    "SELECT e.emp_no, e.last_name, e.first_name, e.gender, s.salary\n",
    "FROM salaries AS s\n",
    "INNER JOIN employees AS e ON\n",
    "e.emp_no = s.emp_no;\n",
    "\n",
    "-- 2. List employees who were hired in 1986.\n",
    "SELECT * FROM employees\n",
    "WHERE hire_date LIKE '1986%';\n",
    "\n",
    "-- 3. List the manager of each department with the following information: department number, department name, \n",
    "--    the manager's employee number, last name, first name, and start and end employment dates.\n",
    "SELECT d.dept_no, d.dept_name, m.emp_no, e.last_name, e.first_name, m.from_date, m.to_date\n",
    "FROM departments AS d\n",
    "INNER JOIN dept_manager AS m ON\n",
    "m.dept_no = d.dept_no\n",
    "JOIN employees AS e ON\n",
    "e.emp_no = m.emp_no;\n",
    "\n",
    "-- 4. List the department of each employee with the following information: employee number, last name, first name, and department name.\n",
    "SELECT e.emp_no, e.last_name, e.first_name, dp.dept_name\n",
    "FROM employees AS e\n",
    "INNER JOIN dept_emp AS d ON\n",
    "e.emp_no = d.emp_no\n",
    "INNER JOIN departments AS dp ON\n",
    "dp.dept_no = d.dept_no;\n",
    "\n",
    "-- 5. List all employees whose first name is \"Hercules\" and last names begin with \"B.\"\n",
    "SELECT * FROM employees\n",
    "WHERE first_name LIKE 'Hercules'\n",
    "AND last_name LIKE 'B%';\n",
    "\n",
    "-- 6. List all employees in the Sales department, including their employee number, last name, first name, and department name.\n",
    "SELECT e.emp_no, e.last_name, e.first_name, dp.dept_name\n",
    "FROM employees AS e\n",
    "INNER JOIN dept_emp AS d ON\n",
    "e.emp_no = d.emp_no\n",
    "INNER JOIN departments AS dp ON\n",
    "dp.dept_no = d.dept_no\n",
    "WHERE dp.dept_name LIKE 'Sales';\n",
    "\n",
    "-- 7. List all employees in the Sales and Development departments, including their employee number, last name, first name, and department name.\n",
    "SELECT e.emp_no, e.last_name, e.first_name, dp.dept_name\n",
    "FROM employees AS e\n",
    "INNER JOIN dept_emp AS d ON\n",
    "e.emp_no = d.emp_no\n",
    "INNER JOIN departments AS dp ON\n",
    "dp.dept_no = d.dept_no\n",
    "WHERE dp.dept_name LIKE 'Development'\n",
    "OR dp.dept_name LIKE 'Sales';"
   ]
  }
 ],
 "metadata": {
  "kernelspec": {
   "display_name": "Python 3",
   "language": "python",
   "name": "python3"
  },
  "language_info": {
   "codemirror_mode": {
    "name": "ipython",
    "version": 3
   },
   "file_extension": ".py",
   "mimetype": "text/x-python",
   "name": "python",
   "nbconvert_exporter": "python",
   "pygments_lexer": "ipython3",
   "version": "3.7.3"
  }
 },
 "nbformat": 4,
 "nbformat_minor": 2
}
